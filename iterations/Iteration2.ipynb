{
 "cells": [
  {
   "cell_type": "code",
   "execution_count": 2,
   "metadata": {
    "collapsed": true
   },
   "outputs": [],
   "source": [
    "from sklearn.metrics import classification_report\n",
    "from scipy.misc import imread\n",
    "import pandas as pd\n",
    "import numpy as np\n",
    "import glob\n",
    "import re"
   ]
  },
  {
   "cell_type": "code",
   "execution_count": 3,
   "metadata": {
    "collapsed": true
   },
   "outputs": [],
   "source": [
    "#Clean up user defined data in the weather column of the weather dataset"
   ]
  },
  {
   "cell_type": "code",
   "execution_count": 4,
   "metadata": {},
   "outputs": [],
   "source": [
    "# flatten in imread set to true, images loaded as gray scale\n",
    "row = 0\n",
    "image_data = pd.DataFrame(columns=(\"image\", \"timestamp\"))\n",
    "\n",
    "for path in sorted(glob.glob(\"./katkam-scaled/*\")):\n",
    "    \n",
    "    matches = re.search(\"\\d+\", path)\n",
    "    image_data.loc[row] = [imread(path, flatten=True).flatten(), matches.group()]\n",
    "    row += 1\n",
    "\n",
    "image_data[\"timestamp\"] = pd.to_datetime(image_data[\"timestamp\"])"
   ]
  },
  {
   "cell_type": "code",
   "execution_count": 6,
   "metadata": {
    "collapsed": true
   },
   "outputs": [],
   "source": [
    "# get list of weather data csv files\n",
    "files = [f for f in sorted(glob.glob(\"./yvr-weather/*\"))]"
   ]
  },
  {
   "cell_type": "code",
   "execution_count": 7,
   "metadata": {
    "collapsed": true
   },
   "outputs": [],
   "source": [
    "import datetime\n",
    "#images only provided from 6 am to 9 pm at night\n",
    "def CleanWeatherData(weather_data):\n",
    "    # data quality <-- look at later? \n",
    "    weather_data.drop([\"Year\",\"Month\",\"Day\",\"Time\",\"Temp Flag\", \"Dew Point Temp Flag\",\n",
    "                       \"Rel Hum Flag\", \"Wind Dir Flag\", \"Wind Spd Flag\",\n",
    "                       \"Visibility Flag\", \"Stn Press Flag\",\n",
    "                       \"Hmdx Flag\", \"Wind Chill Flag\", \"Hmdx\", \"Wind Chill\",\n",
    "                       \"Data Quality\"], axis=1, inplace=True)\n",
    "    weather_data.rename(columns={'Date/Time':'timestamp'}, inplace=True)\n",
    "    \n",
    "filename = files[0]\n",
    "weather_data = pd.read_csv(filename, sep=',', skiprows=16, parse_dates=[0])\n",
    "weather_data2 = pd.read_csv(files[1], sep=',', skiprows=16, parse_dates=[0])\n",
    "#weather_data3 = pd.read_csv(files[2], sep=',', skiprows=16, parse_dates=[0])\n",
    "\n",
    "weather_data = weather_data.append(weather_data2)\n",
    "\n",
    "\n",
    "CleanWeatherData(weather_data)\n",
    "#CleanWeatherData(weather_data2)\n",
    "#CleanWeatherData(weather_data3)"
   ]
  },
  {
   "cell_type": "code",
   "execution_count": 5,
   "metadata": {},
   "outputs": [
    {
     "data": {
      "text/plain": [
       "dtype('<M8[ns]')"
      ]
     },
     "execution_count": 5,
     "metadata": {},
     "output_type": "execute_result"
    }
   ],
   "source": [
    "image_data[\"timestamp\"].dtype"
   ]
  },
  {
   "cell_type": "code",
   "execution_count": 8,
   "metadata": {
    "collapsed": true
   },
   "outputs": [],
   "source": [
    "# Clean up words descriptions Mostly, Mainly, Rain Showers, Heavy Rain, Drizzle <-?, \n",
    "def CleanDescription(weather):\n",
    "    #re.sub(\"(Moderate[\\s]+)*(Mostly[\\s]+)*(Mainly[\\s]+)*([\\s]+Showers)*\",\"\", weather[\"Weather\"])\n",
    "    regex_string = \"(Moderate[\\s]+)*(Mostly[\\s]+)*(Mainly[\\s]+)*([\\s]+Showers)*\"\n",
    "    weather[\"Weather\"] = weather[\"Weather\"].str.replace(regex_string, \"\")\n",
    "    no_drizzle = \"Drizzle\"\n",
    "    weather[\"Weather\"] = weather[\"Weather\"].str.replace(no_drizzle, \"Rain\")\n",
    "    \n",
    "    \n",
    "\n",
    "#Takes the original weather data \n",
    "#Split the data into \n",
    "def dataFrame2Array(images, train_set):\n",
    "    # reshape to (_,49152) (192x256 image to 1-d)\n",
    "    \n",
    "    for i in range(train_set.shape[0]):\n",
    "        images[i] = train_set.image.iloc[i] / 255\n",
    "    \n",
    "    \n",
    "def splitDataWithNanValues(images, weather):\n",
    "    \n",
    "    #Split into non null and null\n",
    "    train = weather[~weather[\"Weather\"].isnull()]\n",
    "    test = weather[weather[\"Weather\"].isnull()]\n",
    "\n",
    "    train_times = list(train.timestamp.map(lambda x: x))\n",
    "    test_times = list(test.timestamp.map(lambda x: x))\n",
    "    \n",
    "    img_train = images[images.timestamp.isin(train_times)]\n",
    "    img_test = images[images.timestamp.isin(test_times)]\n",
    "    \n",
    "    train_img_times = list(img_train.timestamp.map(lambda x: x))\n",
    "    test_img_times = list(img_test.timestamp.map(lambda x: x))\n",
    "    \n",
    "    y_train = train[train.timestamp.isin(train_img_times)]\n",
    "    y_test = test[test.timestamp.isin(test_img_times)]\n",
    "    \n",
    "    X_train = np.zeros((img_train.shape[0],49152), dtype=np.float32)\n",
    "    X_test = np.zeros((img_test.shape[0],49152), dtype=np.float32)\n",
    "    \n",
    "    dataFrame2Array(X_train, img_train)\n",
    "    dataFrame2Array(X_test, img_test)\n",
    "    \n",
    "    return X_train, X_test, y_train, y_test\n"
   ]
  },
  {
   "cell_type": "code",
   "execution_count": 9,
   "metadata": {
    "collapsed": true
   },
   "outputs": [],
   "source": [
    "CleanDescription(weather_data)\n",
    "CleanDescription(weather_data2)\n",
    "CleanDescription(weather_data3)\n",
    "\n",
    "\n",
    "X_train, X_test, y_train, y_test = splitDataWithNanValues(image_data, weather_data)\n",
    "X_train2, X_test2, y_train2, y_test2 = splitDataWithNanValues(image_data, weather_data2)\n",
    "X_train3, X_test3, y_train3, y_test3 = splitDataWithNanValues(image_data, weather_data3)\n",
    "\n",
    "X = np.concatenate((X_train,X_train3), axis=0)\n",
    "y = pd.concat((y_train, y_train3), ignore_index=True)"
   ]
  },
  {
   "cell_type": "code",
   "execution_count": null,
   "metadata": {
    "collapsed": true
   },
   "outputs": [],
   "source": []
  },
  {
   "cell_type": "code",
   "execution_count": 11,
   "metadata": {},
   "outputs": [
    {
     "name": "stdout",
     "output_type": "stream",
     "text": [
      "             precision    recall  f1-score   support\n",
      "\n",
      "      Clear       0.81      0.73      0.77        70\n",
      "     Cloudy       0.67      0.68      0.68        72\n",
      "       Rain       0.54      0.71      0.61        21\n",
      "   Rain,Fog       0.00      0.00      0.00         1\n",
      "\n",
      "avg / total       0.71      0.70      0.70       164\n",
      "\n"
     ]
    },
    {
     "name": "stderr",
     "output_type": "stream",
     "text": [
      "/home/seleena/.local/lib/python3.5/site-packages/sklearn/metrics/classification.py:1113: UndefinedMetricWarning: Precision and F-score are ill-defined and being set to 0.0 in labels with no predicted samples.\n",
      "  'precision', 'predicted', average, warn_for)\n"
     ]
    }
   ],
   "source": [
    "from sklearn.neighbors import KNeighborsClassifier\n",
    "\n",
    "model = KNeighborsClassifier(n_neighbors=5)\n",
    "model.fit(X_train, y_train.Weather)\n",
    "y_predicted = model.predict(X_train2)\n",
    "print(classification_report(y_train2.Weather,y_predicted))"
   ]
  },
  {
   "cell_type": "code",
   "execution_count": 12,
   "metadata": {},
   "outputs": [
    {
     "name": "stdout",
     "output_type": "stream",
     "text": [
      "             precision    recall  f1-score   support\n",
      "\n",
      "      Clear       0.87      0.66      0.75        70\n",
      "     Cloudy       0.64      0.85      0.73        72\n",
      "       Rain       0.69      0.52      0.59        21\n",
      "   Rain,Fog       0.00      0.00      0.00         1\n",
      "\n",
      "avg / total       0.74      0.72      0.72       164\n",
      "\n"
     ]
    },
    {
     "name": "stderr",
     "output_type": "stream",
     "text": [
      "/home/seleena/.local/lib/python3.5/site-packages/sklearn/metrics/classification.py:1113: UndefinedMetricWarning: Precision and F-score are ill-defined and being set to 0.0 in labels with no predicted samples.\n",
      "  'precision', 'predicted', average, warn_for)\n"
     ]
    }
   ],
   "source": [
    "from sklearn.ensemble import RandomForestClassifier\n",
    "\n",
    "model = RandomForestClassifier(n_estimators=50)\n",
    "model.fit(X, y.Weather)\n",
    "#print(model.score(X_train2, y_train2.Weather))\n",
    "y_predicted = model.predict(X_train2)\n",
    "print(classification_report(y_train2.Weather,y_predicted))"
   ]
  },
  {
   "cell_type": "code",
   "execution_count": null,
   "metadata": {
    "collapsed": true
   },
   "outputs": [],
   "source": []
  },
  {
   "cell_type": "markdown",
   "metadata": {},
   "source": [
    "### Notes\n",
    "- try black and white images\n",
    "- try rgb images\n",
    "- try other color coding images\n",
    "- https://datascience.stackexchange.com/questions/5224/how-to-prepare-augment-images-for-neural-network\n",
    "- use temp, dew point, ... etc to estimate weather conditions\n",
    "\n",
    "Try:\n",
    "1. remove nan data -> use for testing\n",
    "2. impute nan weather data -> compare to #1"
   ]
  },
  {
   "cell_type": "code",
   "execution_count": null,
   "metadata": {
    "collapsed": true
   },
   "outputs": [],
   "source": []
  }
 ],
 "metadata": {
  "kernelspec": {
   "display_name": "Python 3",
   "language": "python",
   "name": "python3"
  },
  "language_info": {
   "codemirror_mode": {
    "name": "ipython",
    "version": 3
   },
   "file_extension": ".py",
   "mimetype": "text/x-python",
   "name": "python",
   "nbconvert_exporter": "python",
   "pygments_lexer": "ipython3",
   "version": "3.5.2"
  }
 },
 "nbformat": 4,
 "nbformat_minor": 2
}
