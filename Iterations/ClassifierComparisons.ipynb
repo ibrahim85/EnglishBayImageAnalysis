{
 "cells": [
  {
   "cell_type": "markdown",
   "metadata": {},
   "source": [
    "# Inital Comparison of Prediction Classifiers\n",
    "\n",
    "This notebook loads a subset of YVR csv files and English Bay image files in order to test the accuracy of each prediction model. The three models used include: Random Forest Classifier, K-nearest neighbors and SVC model.\n",
    "Each of these models is inherently multi-class except for SVC."
   ]
  },
  {
   "cell_type": "code",
   "execution_count": 2,
   "metadata": {
    "collapsed": true
   },
   "outputs": [],
   "source": [
    "from scipy.misc import imread\n",
    "import pandas as pd\n",
    "import numpy as np\n",
    "import glob\n",
    "import re"
   ]
  },
  {
   "cell_type": "code",
   "execution_count": 8,
   "metadata": {
    "collapsed": true
   },
   "outputs": [],
   "source": [
    "#Reads all image files from folder\n",
    "#Converts the images to gray scale and concatentates the timestamp\n",
    "#Timestamp taken from the name of the original image file\n",
    "def ReadImage2GrayScale(folderpath, rgb=True):\n",
    "    row = 0\n",
    "    image_data = pd.DataFrame(columns=(\"image\", \"timestamp\"))\n",
    "\n",
    "    if (rgb):\n",
    "\n",
    "        for path in sorted(glob.glob(folderpath + \"/*\")):\n",
    "            matches = re.search(\"\\d+\", path)\n",
    "            image_data.loc[row] = [imread(path, flatten=True).ravel(), matches.group()]\n",
    "            row += 1\n",
    "    else:\n",
    "\n",
    "        for path in sorted(glob.glob(folderpath + \"/*\")):\n",
    "            matches = re.search(\"\\d+\", path)\n",
    "            image_data.loc[row] = [imread(path).ravel(), matches.group()]\n",
    "            row += 1\n",
    "\n",
    "    image_data[\"timestamp\"] = pd.to_datetime(image_data[\"timestamp\"])\n",
    "    return image_data\n",
    "\n",
    "\n",
    "#Load the weather data & rename the time column to timestamp\n",
    "def CleanWeatherData(weather_data):\n",
    "\n",
    "    weather_data.drop([\"Year\",\"Month\",\"Day\",\"Time\",\"Temp Flag\", \"Dew Point Temp Flag\",\n",
    "                     \"Rel Hum Flag\", \"Wind Dir Flag\", \"Wind Spd Flag\",\n",
    "                     \"Visibility Flag\", \"Stn Press Flag\",\n",
    "                     \"Hmdx Flag\", \"Wind Chill Flag\", \"Hmdx\", \"Wind Chill\",\n",
    "                     \"Data Quality\"], axis=1, inplace=True)\n",
    "    weather_data.rename(columns={'Date/Time':'timestamp'}, inplace=True)\n",
    "\n",
    "\n",
    "# Clean up words descriptions Mostly, Mainly, Rain Showers, Heavy Rain, Drizzle, Thunderstorm, Freezing\n",
    "# Only categories allowed: Clear, Cloudy, Fog, Rain, combinations...\n",
    "def CleanDescription(weather):\n",
    "    #re.sub(\"(Moderate[\\s]+)*(Mostly[\\s]+)*(Mainly[\\s]+)*([\\s]+Showers)*\",\"\", weather[\"Weather\"])\n",
    "    regex_string = \"(Freezing[\\s]+)*(Heavy[\\s]+)*(Moderate[\\s]+)*(Mostly[\\s]+)*(Mainly[\\s]+)*([\\s]+Showers)*([\\s]+Pellets)*\"\n",
    "    weather[\"Weather\"] = weather[\"Weather\"].str.replace(regex_string, \"\")\n",
    "    no_drizzle = \"(,Drizzle)?(Drizzle,)?(Drizzle)?\"\n",
    "    weather[\"Weather\"] = weather[\"Weather\"].str.replace(no_drizzle, \"\")\n",
    "    weather[\"Weather\"].replace(\"\", np.nan, inplace=True)\n",
    "    no_thunder = \"Thunderstorms\"\n",
    "    weather[\"Weather\"] = weather[\"Weather\"].str.replace(no_thunder, \"Cloudy\")\n",
    "\n",
    "\n",
    "\n",
    "#Takes the original weather data loaded as Dataframe and converts to ML friendly format\n",
    "def dataFrame2Array(images, train_set):\n",
    "  # reshape to (_,49152) (192x256 image to 1-d)\n",
    "\n",
    "  for i in range(train_set.shape[0]):\n",
    "    images[i] = train_set.image.iloc[i] / 255\n",
    "\n",
    "\n",
    "\n",
    "def matchAndSortData(image_data, weather_data):\n",
    "\n",
    "    weather_times = list(weather_data.timestamp.map(lambda x: x))\n",
    "    image_data = image_data[image_data.timestamp.isin(weather_times)]\n",
    "\n",
    "    image_times = list(image_data.timestamp.map(lambda x: x))\n",
    "    weather_data = weather_data[weather_data.timestamp.isin(image_times)]\n",
    "\n",
    "    image_data = image_data.sort_values(by='timestamp')\n",
    "    weather_data = weather_data.sort_values(by='timestamp')\n",
    "\n",
    "    return image_data, weather_data\n",
    "\n",
    "\n",
    "# take all yvr weather files and merge them into one dataframe\n",
    "def readMergeData(drop_null=True): #Do the bool later\n",
    "    files = [f for f in sorted(glob.glob(\"./yvr-weather/*\"))]\n",
    " \n",
    "    data_set = pd.read_csv(files[0], sep=',', skiprows=16, parse_dates=[0])\n",
    "    for i in range(1,0): #debug\n",
    "    \n",
    "        weather_data = pd.read_csv(files[i], sep=',', skiprows=16, parse_dates=[0])\n",
    "        weather_data = weather_data[~weather_data[\"Weather\"].isnull()]\n",
    "        data_set = data_set.append(weather_data)\n",
    "\n",
    "    #clean up weather description and drop unnecessary columns\n",
    "    CleanWeatherData(data_set)\n",
    "    CleanDescription(data_set)\n",
    "    data_set = data_set[~data_set[\"Weather\"].isnull()]\n",
    "    \n",
    "    return data_set"
   ]
  },
  {
   "cell_type": "code",
   "execution_count": 4,
   "metadata": {
    "collapsed": true,
    "scrolled": true
   },
   "outputs": [],
   "source": [
    "#Reading image data\n",
    "image_data = ReadImage2GrayScale(\"./katkam-eq\", rgb=False)"
   ]
  },
  {
   "cell_type": "code",
   "execution_count": 9,
   "metadata": {},
   "outputs": [
    {
     "name": "stdout",
     "output_type": "stream",
     "text": [
      "Cleaning weather data...\n",
      "Spliting data...\n"
     ]
    }
   ],
   "source": [
    "weather_data = readMergeData()\n",
    "print(\"Cleaning weather data...\")\n",
    "print(\"Spliting data...\")\n",
    "\n",
    "from sklearn.metrics import classification_report\n",
    "from sklearn.model_selection import train_test_split\n",
    "\n",
    "image_data, weather_data = matchAndSortData(image_data, weather_data)\n",
    "X_train_img, X_test_img, y_train, y_test = train_test_split(image_data, weather_data)\n",
    "\n",
    "X_train = np.zeros((X_train_img.shape[0],49152), dtype=np.float32)\n",
    "X_test  = np.zeros((X_test_img.shape[0],49152), dtype=np.float32)\n",
    "\n",
    "dataFrame2Array(X_train, X_train_img)\n",
    "dataFrame2Array(X_test, X_test_img)"
   ]
  },
  {
   "cell_type": "code",
   "execution_count": 10,
   "metadata": {},
   "outputs": [
    {
     "name": "stdout",
     "output_type": "stream",
     "text": [
      "             precision    recall  f1-score   support\n",
      "\n",
      "      Clear       0.60      0.86      0.71         7\n",
      "     Cloudy       0.80      0.80      0.80        25\n",
      "       Rain       0.75      0.43      0.55         7\n",
      "\n",
      "avg / total       0.76      0.74      0.74        39\n",
      "\n"
     ]
    }
   ],
   "source": [
    "from sklearn.ensemble import RandomForestClassifier\n",
    "model = RandomForestClassifier(n_estimators=50)\n",
    "\n",
    "model.fit(X_train, y_train.Weather)\n",
    "y_predicted = model.predict(X_test)\n",
    "print(classification_report(y_test.Weather,y_predicted))"
   ]
  },
  {
   "cell_type": "code",
   "execution_count": 11,
   "metadata": {},
   "outputs": [
    {
     "name": "stdout",
     "output_type": "stream",
     "text": [
      "             precision    recall  f1-score   support\n",
      "\n",
      "      Clear       0.41      1.00      0.58         7\n",
      "     Cloudy       1.00      0.32      0.48        25\n",
      "       Rain       0.50      1.00      0.67         7\n",
      "\n",
      "avg / total       0.80      0.56      0.54        39\n",
      "\n"
     ]
    }
   ],
   "source": [
    "from sklearn.neighbors import KNeighborsClassifier\n",
    "model = KNeighborsClassifier(n_neighbors=5,algorithm='kd_tree' ,leaf_size=20)\n",
    "\n",
    "model.fit(X_train, y_train.Weather)\n",
    "y_predicted = model.predict(X_test)\n",
    "print(classification_report(y_test.Weather,y_predicted))"
   ]
  },
  {
   "cell_type": "code",
   "execution_count": 12,
   "metadata": {},
   "outputs": [
    {
     "name": "stdout",
     "output_type": "stream",
     "text": [
      "             precision    recall  f1-score   support\n",
      "\n",
      "      Clear       0.45      0.71      0.56         7\n",
      "     Cloudy       0.83      0.60      0.70        25\n",
      "       Rain       0.60      0.86      0.71         7\n",
      "\n",
      "avg / total       0.72      0.67      0.67        39\n",
      "\n"
     ]
    }
   ],
   "source": [
    "from sklearn.svm import SVC\n",
    "model = SVC(C=1e5)\n",
    "\n",
    "model.fit(X_train, y_train.Weather)\n",
    "y_predicted = model.predict(X_test)\n",
    "print(classification_report(y_test.Weather,y_predicted))"
   ]
  }
 ],
 "metadata": {
  "kernelspec": {
   "display_name": "Python 3",
   "language": "python",
   "name": "python3"
  },
  "language_info": {
   "codemirror_mode": {
    "name": "ipython",
    "version": 3
   },
   "file_extension": ".py",
   "mimetype": "text/x-python",
   "name": "python",
   "nbconvert_exporter": "python",
   "pygments_lexer": "ipython3",
   "version": "3.5.2"
  }
 },
 "nbformat": 4,
 "nbformat_minor": 2
}
